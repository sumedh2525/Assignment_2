{
 "cells": [
  {
   "cell_type": "code",
   "execution_count": 13,
   "id": "831bc53b-1c9f-4980-840d-acb619da8024",
   "metadata": {},
   "outputs": [
    {
     "name": "stdout",
     "output_type": "stream",
     "text": [
      "1 3 5 7 9 11 13 15 17 19 21 23 25 None\n"
     ]
    }
   ],
   "source": [
    "#  Q1. Which keyword is used to create a function? Create a function to return a list of odd numbers in the \n",
    "#  range of 1 to 25.\n",
    "\n",
    "# Ans:- def is used to create a function\n",
    "\n",
    "def fun():\n",
    "    for i in range(1,25+1):\n",
    "        if i % 2 != 0 :\n",
    "            print(i , end = \" \")\n",
    "print(fun())"
   ]
  },
  {
   "cell_type": "code",
   "execution_count": 1,
   "id": "ead3cf51-ec43-4575-a6c3-512e91ab1545",
   "metadata": {},
   "outputs": [
    {
     "name": "stdout",
     "output_type": "stream",
     "text": [
      "First argument : Hello\n",
      "The Next agrument through *args : Welcome\n",
      "The Next agrument through *args : to\n",
      "The Next agrument through *args : Pwskills\n",
      "first == Welcome\n",
      "mid == to\n",
      "last == Pwskills\n"
     ]
    }
   ],
   "source": [
    "#  Q2. Why *args and **kwargs is used in some functions? Create a function each for *args and **kwargs to \n",
    "#  demonstrate their use.\n",
    "\n",
    "# Ans:- We can use *args and **kwargs as arguments of a function when you are unsure about the number of arguments to pass in the functions\n",
    "\n",
    "def fun_1(arg1 ,*args):\n",
    "    print(\"First argument :\", arg1)\n",
    "    for i in args:\n",
    "        print(\"The Next agrument through *args :\" , i)\n",
    "        \n",
    "fun_1(\"Hello\" , \"Welcome\" , \"to\" , \"Pwskills\")\n",
    "\n",
    "def fun_2(**kwargs):\n",
    "    for key , value in kwargs.items():\n",
    "        print(\"%s == %s\" % (key , value))\n",
    "fun_2(first = \"Welcome\" , mid = \"to\" , last = \"Pwskills\")\n"
   ]
  },
  {
   "cell_type": "code",
   "execution_count": 4,
   "id": "1be914d0-c457-4df3-900a-452270bd631f",
   "metadata": {},
   "outputs": [
    {
     "name": "stdout",
     "output_type": "stream",
     "text": [
      "2\n",
      "4\n",
      "6\n",
      "8\n",
      "10\n"
     ]
    }
   ],
   "source": [
    "#  Q3.  What is an iterator in python? Name the method used to initialise the iterator object and the method\n",
    "#  used for iteration. Use these methods to print the first five elements of the given list [2, 4, 6, 8, 10, 12, 14, 16,\n",
    "#  18, 20].\n",
    "# Ans:-\n",
    "\n",
    "import itertools\n",
    "n = 5 \n",
    "list =  [2, 4, 6, 8, 10, 12, 14, 16, 18, 20]\n",
    "for item in itertools.islice(list,n):\n",
    "    print(item)\n",
    "\n",
    "\n",
    "\n"
   ]
  },
  {
   "cell_type": "code",
   "execution_count": 2,
   "id": "aa87c886-4492-48ea-a713-1cc4a971fac0",
   "metadata": {},
   "outputs": [
    {
     "name": "stdout",
     "output_type": "stream",
     "text": [
      "Hello\n",
      "pwskills\n"
     ]
    }
   ],
   "source": [
    "#  Q4.  What is a generator function in python? Why yield keyword is used? Give an example of a generator\n",
    "#  function.\n",
    "#  Ans:-A Python generator function helps you to declare a function that behaves like an iterator, providing a faster and easier way to create iterators\n",
    "\n",
    "def generatfun():\n",
    "    yield \"Hello\"\n",
    "    yield \"pwskills\"\n",
    "    \n",
    "for i in generatfun():\n",
    "    print(i)"
   ]
  },
  {
   "cell_type": "code",
   "execution_count": 5,
   "id": "26332598-2f9a-4e67-a018-21fd5abba76d",
   "metadata": {},
   "outputs": [
    {
     "name": "stdout",
     "output_type": "stream",
     "text": [
      "2 3 5 7 11 13 17 19 23 29 31 37 41 43 47 53 59 61 67 71 73 79 83 89 97 101 103 107 109 113 127 131 137 139 149 151 157 163 167 173 179 181 191 193 197 199 211 223 227 229 233 239 241 251 257 263 269 271 277 281 283 293 307 311 313 317 331 337 347 349 353 359 367 373 379 383 389 397 401 409 419 421 431 433 439 443 449 457 461 463 467 479 487 491 499 503 509 521 523 541 547 557 563 569 571 577 587 593 599 601 607 613 617 619 631 641 643 647 653 659 661 673 677 683 691 701 709 719 727 733 739 743 751 757 761 769 773 787 797 809 811 821 823 827 829 839 853 857 859 863 877 881 883 887 907 911 919 929 937 941 947 953 967 971 977 983 991 997 "
     ]
    }
   ],
   "source": [
    "#  Q5. Create a generator function for prime numbers less than 1000. Use the next() method to print the\n",
    "#  first 20 prime numbers.\n",
    "# Ans:-\n",
    "\n",
    "def isPrime(n):\n",
    "    if(n<=1):\n",
    "        return False\n",
    "    if(n<=3):\n",
    "        return True\n",
    "    \n",
    "    if (n % 2 == 0 or n% 3 == 0):\n",
    "        return False\n",
    "    \n",
    "    i=5\n",
    "    while(i*i <= n):\n",
    "        if (n % i == 0 or n % (i+2) ==0):\n",
    "            return False\n",
    "        i = i + 6\n",
    "        \n",
    "    return True\n",
    "\n",
    "#print all prime numbers less than n\n",
    "\n",
    "def printPrime(n):\n",
    "    for i in range(2,n+1):\n",
    "        if isPrime(i):\n",
    "            print(i,end = \" \")\n",
    "\n",
    "n = 1000\n",
    "printPrime(n)\n",
    "      \n",
    "   \n",
    "    \n",
    "\n",
    "\n"
   ]
  },
  {
   "cell_type": "code",
   "execution_count": null,
   "id": "1c09566a-80f5-4d6b-a8c0-bc2c547575b2",
   "metadata": {},
   "outputs": [],
   "source": []
  }
 ],
 "metadata": {
  "kernelspec": {
   "display_name": "Python 3 (ipykernel)",
   "language": "python",
   "name": "python3"
  },
  "language_info": {
   "codemirror_mode": {
    "name": "ipython",
    "version": 3
   },
   "file_extension": ".py",
   "mimetype": "text/x-python",
   "name": "python",
   "nbconvert_exporter": "python",
   "pygments_lexer": "ipython3",
   "version": "3.10.8"
  }
 },
 "nbformat": 4,
 "nbformat_minor": 5
}
